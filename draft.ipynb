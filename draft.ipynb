{
 "cells": [
  {
   "cell_type": "code",
   "execution_count": null,
   "id": "1df33698",
   "metadata": {},
   "outputs": [],
   "source": [
    "        for trace in ink.getTraces():\n",
    "            data_point = np.array(trace)\n",
    "\n",
    "            xy = np.diff(data_point, axis=0)\n",
    "            d = np.linalg.norm(xy, axis=1)\n",
    "\n",
    "            # Avoid division by zero\n",
    "            d[d == 0] = 1e-6\n",
    "\n",
    "            delta_xy = xy / d[:, None]\n",
    "\n",
    "            # Pen down (0) except the last point in the trace is pen up (1)\n",
    "            pen_properties = [0] * (len(delta_xy) - 1) + [1]\n",
    "\n",
    "            trace_tensor = []\n",
    "            # Construct trace tensor for current trace\n",
    "            for vec, dist, pen in zip(delta_xy, d, pen_properties):\n",
    "                dx, dy = vec[:2]\n",
    "                trace_tensor.append((dx, dy, dist, int(pen)))\n",
    "\n",
    "            trace_tensors.append(torch.tensor(trace_tensor, dtype=torch.float32))"
   ]
  }
 ],
 "metadata": {
  "language_info": {
   "name": "python"
  }
 },
 "nbformat": 4,
 "nbformat_minor": 5
}
